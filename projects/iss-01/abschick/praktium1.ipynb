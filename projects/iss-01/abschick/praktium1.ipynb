{
 "cells": [
  {
   "attachments": {},
   "cell_type": "markdown",
   "id": "eafc4fcf-0a48-41c8-a92e-e77575c87916",
   "metadata": {},
   "source": [
    "Version 1.0.1 24.03.2023\n",
    "\n",
    "# Praktikum 1 Intelligente Sensorsysteme \n",
    "Tim Tiedemann, Thomas Lehmann, Roman Kusche, Tobias de Gasperis "
   ]
  },
  {
   "cell_type": "markdown",
   "id": "dedeb6fa-90d1-461f-8f9a-bafa5f68a1f2",
   "metadata": {},
   "source": [
    "# Einfaches (intelligentes) Sensorsystem\n",
    "Im Praktikum 1 geht es um die Eigenschaften eines einfachen, gerade noch nicht intelligenten Sensorsystems, sowie eine erste Sensordatenverarbeitung mittels Mikrocontroller. Es sollen dazu die Eigenschaften des Systems ermittelt und durch geeignete Software idealisiert werden.\n",
    "\n",
    "Lesen Sie sich die Aufgaben gut durch. Sollten Sie eine Aufgabe nicht lösen können, so beschreiben Sie zumindest, wie weit Sie gekommen sind und auf welche Weise Sie vorgegangen sind.\n",
    "\n",
    "Beachten Sie auf der methodischen Seite, dass es bei einem Experiment die Schritte der Dokumentation wesentlicher Aspekte des Aufbaus, der Datenerhebung, der Datenauswertung und der Kommentierung des Ergebnisses gibt. Alle Diagramme sind entsprechend korrekt zu beschriften.\n",
    "\n",
    "Die Aufgaben sind direkt hier als Protokoll zu bearbeiten. Das abgegebene Notebook soll ausführbar sein. Daneben ist der PDF-Export des Notebook mit abzugeben."
   ]
  },
  {
   "cell_type": "code",
   "execution_count": null,
   "id": "3c0f9c93-d870-4661-8761-b7419131de89",
   "metadata": {
    "vscode": {
     "languageId": "plaintext"
    }
   },
   "outputs": [],
   "source": [
    "Autoren des Protokolls: Haron Nazari, Anton Tchekov"
   ]
  },
  {
   "attachments": {},
   "cell_type": "markdown",
   "id": "10c976ec-8a7d-439f-9464-203434d6b124",
   "metadata": {},
   "source": [
    "# Fallbeschreibung\n",
    "Ein Forschungsroboter soll zur besseren Kollisionsvermeidung den Abstand zu Objekten in der Umgebung erfassen. Für die Abstandsmessung soll ein Sensorknoten entwickelt werden, der den Abstand optisch ermittelt und die Entfernung über serielle Schnittstelle in Zentimeter \\[cm\\] ausgibt. Die Übertragung erfolgt im Klartext als Gleitkommazahl. Jeder Messwert wird durch Zeilenumbruch von dem vorherigen Messwert getrennt. Es muss eine Messrate von mindestens 4 Hz erreicht werden.\n",
    "\n",
    "Für einen ersten Prototyp wurde der Sensor Sharp GP2Y0A21 ausgesucht. Als Mikrocontrollersystem steht ein Development-Kit Nucleo144-F429ZI der Firma STMicroelectronics zur Verfügung.\n",
    "\n",
    "Entwickeln Sie einen ersten Prototypen für das Sensorsystem auf Basis des Sensors und des Mikrocontrollersystems. Beurteilen Sie dabei die Qualität des Sensorsystems.\n"
   ]
  },
  {
   "cell_type": "markdown",
   "id": "dd218564-00b5-4517-8585-e95e261dd740",
   "metadata": {},
   "source": [
    "# Vorbereitungsaufgaben\n",
    "## Mikrocontroller\n",
    "Beschaffen Sie sich Datenblätter und ggf. weiteres Informationsmaterial zu dem ITS-Mikrocontroller-Board mit dem Nucleo144-F429ZI-Board. Was für ein Mikrocontroller ist darauf verbaut? Welche Informationen in den Datenblättern sind für die Bearbeitung der Praktikumsaufgabe relevant (auflisten)?"
   ]
  },
  {
   "cell_type": "code",
   "execution_count": null,
   "id": "51d4e74e-253f-4efc-8b6f-ddd9ef7538ea",
   "metadata": {
    "vscode": {
     "languageId": "plaintext"
    }
   },
   "outputs": [],
   "source": [
    "Es ist ein STM32F429ZI verbaut. Für uns ist erstmal nur Abschnitt 13\n",
    "(Analog-to-digital Converter) und Abschnitt 30 (USART) wichtig."
   ]
  },
  {
   "cell_type": "markdown",
   "id": "aec35bd9-b30f-4c9a-8f5f-d08b0145c6d4",
   "metadata": {},
   "source": [
    "## Sensor\n",
    "Es soll der Sensor vom Typ Sharp GP2Y0A21 verwendet werden. Beschaffen Sie sich das entsprechende Datenblatt. Welche Quellen für Datenblätter gibt es? Welche haben Sie warum gewählt?"
   ]
  },
  {
   "cell_type": "code",
   "execution_count": null,
   "id": "4086357e-683f-408b-9245-2fc1e826e95a",
   "metadata": {
    "vscode": {
     "languageId": "plaintext"
    }
   },
   "outputs": [],
   "source": [
    "Wir haben das Datenblatt vom Sensor-Hersteller geholt, es gab alternativ\n",
    "Datasheet-Datenbanken oder auf Distributor-Seiten Datenblätter."
   ]
  },
  {
   "cell_type": "markdown",
   "id": "a15f2d5f-97da-4040-8553-4043064c897a",
   "metadata": {},
   "source": [
    "Welche Abschnitte gibt es grob in dem Datenblatt? Welche Informationen in dem Datenblatt sind für die Bearbeitung der Praktikumsaufgabe relevant (auflisten)?"
   ]
  },
  {
   "cell_type": "code",
   "execution_count": null,
   "id": "bec1f5e4-4f43-4c69-b1a8-95319559338a",
   "metadata": {
    "vscode": {
     "languageId": "plaintext"
    }
   },
   "outputs": [],
   "source": [
    "Es gibt Anfangs eine Overview von den wichtigsten Charakteristiken, ein Block Diagramm\n",
    "des Sensors und die Dimensionen mit dem Electical Characteristics.\n",
    "Es kommt danach ein Timing Chart, welches darstellt wie der Sensor intern arbeitet\n",
    "und welche Wartezeit man erwarten kann.\n",
    "\n",
    "Danach kommt das Wichtigste für das Praktikum: 2 Graphen, welche uns sagen was am\n",
    "Pin Vout vom Sensor anliegt bei welcher gemessenen Distanz.\n",
    "\n",
    "Zuletzt kommen ein paar Usage Tipps.\n",
    "\n",
    "Für uns derzeit ist relevant:\n",
    "\n",
    "- Pinout des Sensors\n",
    "- Die Graphen\n",
    "- Die Electrical Characteristics\n",
    "- Timing Chart"
   ]
  },
  {
   "cell_type": "markdown",
   "id": "e3568755-8972-40b1-a648-825c9496c3e7",
   "metadata": {},
   "source": [
    "Um was für eine Art von Sensor handelt es sich? Beschreiben Sie kurz das Funktionsprinzip des Sensors."
   ]
  },
  {
   "cell_type": "code",
   "execution_count": null,
   "id": "09f62a5f-84e2-4593-9074-5887f251903c",
   "metadata": {
    "vscode": {
     "languageId": "plaintext"
    }
   },
   "outputs": [],
   "source": [
    "Ein Sensor zur Distanzermittlung, welcher mit Infrarot LEDs funktioniert.\n",
    "Die Entfernung wird über Triangulation bestimmt. Der Winkel, unter dem das\n",
    "Licht reflektiert wird, ändert sich je nach Entfernung. Der Sensor besitzt\n",
    "zur Messung des Winkels eine ortsauflösende Photodiode. Aus dem Winkel berechnet\n",
    "der Sensor dann die Entfernung."
   ]
  },
  {
   "attachments": {},
   "cell_type": "markdown",
   "id": "27356a95",
   "metadata": {},
   "source": [
    "## Vorbereitung auf das Labor\n",
    "\n",
    "Lesen sie die Aufgaben, welche im Labor durchgeführt werden sollen durch.\n",
    "\n",
    "Erstellen Sie, wenn noch nicht vorhanden einen github-Account um Zugang zu der bereitgestellten Software für das ITS-BRD zu bekommen. Teilen Sie den Namen ihres github-Accounts über die entsprechende Buchungsliste mit (siehe Teams-Raum).\n",
    "\n",
    "Legen Sie ein neues Projekt mit hilfe der Batch-Datei newProgramADC.bat aus dem Submodul ITS_BRD_Sensorik an. Versuchen Sie dieses Projekt zu öffnen und zu kompilieren.\n",
    "\n",
    "Sammeln Sie alle Fragen und Probleme auf die Sie dabei stoßen."
   ]
  },
  {
   "cell_type": "code",
   "execution_count": null,
   "id": "abfdb9c6",
   "metadata": {
    "vscode": {
     "languageId": "plaintext"
    }
   },
   "outputs": [],
   "source": [
    "Hat problemlos kompiliert und funktioniert"
   ]
  },
  {
   "cell_type": "markdown",
   "id": "c94c0917-4017-4a74-a565-1e97a9fe26d1",
   "metadata": {},
   "source": [
    "# Im Labor"
   ]
  },
  {
   "cell_type": "markdown",
   "id": "951d04ac-a477-40c5-b251-14e9da4ced6e",
   "metadata": {},
   "source": [
    "## Analoge Entfernungsmessung"
   ]
  },
  {
   "cell_type": "markdown",
   "id": "132f6b3a-7da9-48d0-90c8-4f187cc03bbc",
   "metadata": {},
   "source": [
    "Nehmen Sie den Sensor Sharp GP2Y0A21 in Absprache mit dem Tutor mit Labornetzteil und Oszilloskop in Betrieb. Skizzieren Sie vorab einen Schaltplan, sprechen diesen mit dem Tutor ab und bauen Sie dann die Verdrahtung auf. \n",
    "\n",
    "Fügen Sie die Skizze hier ein."
   ]
  },
  {
   "cell_type": "markdown",
   "id": "9e194d47",
   "metadata": {},
   "source": [
    "![Schematic](schem.png)"
   ]
  },
  {
   "cell_type": "markdown",
   "id": "0058302f-5d37-4c0c-9f8b-c251ecc6769d",
   "metadata": {},
   "source": [
    "Untersuchen Sie das Verhalten des Sensors. Was beobachten Sie?"
   ]
  },
  {
   "cell_type": "code",
   "execution_count": null,
   "id": "ae61f483-1937-4405-bd7c-b1d51faff935",
   "metadata": {
    "vscode": {
     "languageId": "plaintext"
    }
   },
   "outputs": [],
   "source": [
    "Je größer die Entfernung, desto geringer die Ausgangsspannung. Bei sehr kleinen\n",
    "Entfernungen (unter 6 cm) sinkt die Spannung wieder.\n",
    "\n"
   ]
  },
  {
   "cell_type": "markdown",
   "id": "2c971a0b-f353-41a0-87fa-0d9de58288f1",
   "metadata": {},
   "source": [
    "Wählen Sie sechs Entfernungen aus und messen Sie jeweils das Ausgangssignal des Sensors.\n",
    "Verwenden Sie das Anhalten des Scans, um die Breite des Rauschens abzuschätzen. Alternativ kann die Min-/Max-Funktion des Oszilloskops helfen, um Minimal- und Maximalwert zu messen – aber Achtung: Ausreißer sollen hierbei nicht beachtet werden! Für Ausreißer in Messsignalen werden wir noch andere Methoden betrachten.\n",
    "\n",
    "Fügen Sie hier eine Tabelle mit den Messwerten (Distanz, Messwert, Rauschbreite) ein. Welche Einheit haben die Werte? "
   ]
  },
  {
   "cell_type": "code",
   "execution_count": null,
   "id": "d836b95b-b97d-4dcf-ab94-8648bf2fbde7",
   "metadata": {
    "vscode": {
     "languageId": "plaintext"
    }
   },
   "outputs": [],
   "source": [
    "| Entfernung cm | Spannung Vo | Rauschbreite |\n",
    "|---------------|-------------|--------------|\n",
    "|            10 |        2.2  |         0.1  |\n",
    "|            25 |        0.9  |         0.1  |\n",
    "|            40 |        0.7  |         0.14 |\n",
    "|            55 |        0.57 |         0.13 |\n",
    "|            70 |        0.49 |         0.13 |\n",
    "|            85 |        0.34 |         0.12 |\n",
    "\n",
    "Die Werte haben die Einheit Volt."
   ]
  },
  {
   "cell_type": "markdown",
   "id": "a6000bb0-cf89-4832-aa70-1ce5f69688c8",
   "metadata": {},
   "source": [
    "Stellen Sie Ihre Messwerte graphisch in einem linearen Koordinatensystem dar. Versuchen Sie, eine Funktion $y = y_0 + m · x$ entlang Ihren Messdaten zu legen. Wie haben Sie die Koeffizienten der Funktion ermittelt? Wie gut passt das lineare Modell zu Ihren Daten? Haben Sie eine Erklärung dafür?"
   ]
  },
  {
   "cell_type": "markdown",
   "id": "bcebfb65-ec1a-4542-bfe5-4750ad4910ad",
   "metadata": {
    "vscode": {
     "languageId": "plaintext"
    }
   },
   "source": [
    "y = -0.02 * x + 1.83\n",
    "\n",
    "Wir haben den Chart mit Matlab erstellt (ADC Werte von der nächsten Aufgabe auch mit enthalten):\n",
    "\n",
    "![Matlab plot](plot.PNG)\n",
    "\n",
    "Das lineare Modell passt nicht so gut (R^2 Wert: 0.7)\n",
    "\n",
    "Der Sensor liefert einfach keine linearen Daten (Wahrscheinlich weil es\n",
    "intern mit Winkeln arbeitet)"
   ]
  },
  {
   "cell_type": "markdown",
   "id": "cec99541-0af6-4ebb-bcbe-045dfad7ec2d",
   "metadata": {},
   "source": [
    "Erkennen Sie irgendwelche Probleme bei diesem Versuchsaufbau oder gab es Fehlannahmen über das erwartete Verhalten? Beschreiben Sie kurz."
   ]
  },
  {
   "cell_type": "code",
   "execution_count": null,
   "id": "6d4c2ac0",
   "metadata": {
    "vscode": {
     "languageId": "plaintext"
    }
   },
   "outputs": [],
   "source": [
    "Verhalten war wie erwartet (durch Diagramm im Datasheet), Rauschen war unerwartet hoch"
   ]
  },
  {
   "cell_type": "markdown",
   "id": "e93f605a-6249-4a3e-8893-ac204d55297d",
   "metadata": {},
   "source": [
    "Was fällt Ihnen insgesamt an dem Sensorverhalten auf? Gibt es negative Eigenschaften? Erkennen Sie zwei verschiedene Arten von Störungen, die zu falschen Messwerten führen?\n"
   ]
  },
  {
   "cell_type": "code",
   "execution_count": null,
   "id": "318ccf12-71b7-4f78-bca2-ca60440ef4d5",
   "metadata": {
    "vscode": {
     "languageId": "plaintext"
    }
   },
   "outputs": [],
   "source": [
    "Negativ ist:\n",
    "Es gibt zwei Entfernungen die zu der selben Spannung führen\n",
    "(Weite und sehr nahe Entfernungen)\n",
    "\n",
    "Sodass man nur durch einen Sensorwert nicht absolut wissen kann,\n",
    "was die Entfernung ist.\n",
    "\n",
    "Elektrische Störungen (Rauschen) -> Zufälliger/Stochastischer Fehler\n",
    "\n",
    "Ungenauigkeit des Sensors -> systematischen Messfehler"
   ]
  },
  {
   "cell_type": "markdown",
   "id": "26182231-07d2-4eb3-8211-e8a8b6f2a0ec",
   "metadata": {},
   "source": [
    "## Digitale Entfernungsmessung"
   ]
  },
  {
   "attachments": {},
   "cell_type": "markdown",
   "id": "8bf5fb32-97c3-4d1b-99b1-bd557bfc318f",
   "metadata": {},
   "source": [
    "### Analyse der Vorarbeiten in der Software\n",
    "Im Rahmen der Vorauswahl von Sensor und Mikrocontroller-Board wurde schon ein erstes Beispielprojekt erstellt. Das Keil-Projekt erhalten Sie über github\n",
    "\n",
    "Eventuell muss in der Keil-Umgebung vor dem / beim ersten Start die Unterstützung des verwendeten Mikrocontrollers nachinstalliert werden."
   ]
  },
  {
   "cell_type": "markdown",
   "id": "e93a4a4f-9585-41c6-b539-e12acbe8c7b5",
   "metadata": {},
   "source": [
    "Analysieren Sie sich das zur Verfügung gestellte Projekt. Was wurde bereits in den Vorarbeiten erledigt? Wo/wie werden die Mikrocontroller-internen Komponenten angesteuert? Wo die initiale Konfiguration der Mikrocontroller-internen Komponenten? Wo findet ein Zugriff auf die ADC-Ergebnisse statt? Insbesondere, wo findet die Board-spezifische Konfiguration statt: An welchem Pin des Controllers wird der Analogwert eingelesen?"
   ]
  },
  {
   "cell_type": "code",
   "execution_count": null,
   "id": "f2356451-e0db-4980-b9ce-802df5f11ce6",
   "metadata": {
    "vscode": {
     "languageId": "plaintext"
    }
   },
   "outputs": [],
   "source": [
    "Der Analogwert wird vom Pin ADC3_6 ausgelesen.\n",
    "\n",
    "Die Konfiguration der Mikrocontroller-Komponenten erfolgt in den \"init\" Funktionen zu Beginn der Main-Funktion.\n",
    "\n",
    "Der Zugriff auf den ADC erfolgt in dem Super-Loop, wo der Wert ausgelesen und über die\n",
    "Serielle Schnittstelle (UART) an den PC weitergeleitet wird."
   ]
  },
  {
   "cell_type": "markdown",
   "id": "4cbed4fe-9abe-47c7-8185-0b83070e5390",
   "metadata": {},
   "source": [
    "Kompilieren Sie das Programm und laden es auf den Mikrocontroller. Prüfen Sie die Funktionsweise des Programms. \n",
    "\n",
    "Auf dem PC/Notebook benötigen Sie ein Programm, um die serielle Schnittstelle auszulesen, z.B. TeraTerm oder HyperTerm, das passend konfiguriert sein muss.\n",
    "\n",
    "Falls Sie mit der der Simulation in Keil arbeiten, müssen Sie (im Simulations-/Debug-Modus) unter “View”–“Serial Windows” den “UART#2” auswählen. Dieses Fenster ist im ursprünglichen Projekt bereits geöffnet. Fragen Sie ggf. Ihren Tutor dazu."
   ]
  },
  {
   "cell_type": "markdown",
   "id": "ecbe5b1d-5283-4099-a804-088e59c80183",
   "metadata": {},
   "source": [
    "### Analyse Systemverhalten "
   ]
  },
  {
   "cell_type": "markdown",
   "id": "0dea5b7d-1202-4e1d-9c55-8aac727c572d",
   "metadata": {},
   "source": [
    "Vor der Entwicklung des Prototypen muss nun das Systemverhalten des Sensors in Kombination mit dem Mikrocontroller ebenfalls analysiert werden."
   ]
  },
  {
   "cell_type": "markdown",
   "id": "c6179e5c-30af-4c53-99b0-e92eac144ab0",
   "metadata": {},
   "source": [
    "Skizzieren Sie Ihren Aufbau (Kästchengrafik) ihres Systems, ggf. auf Papier, und fügen Sie das Bild hier ein."
   ]
  },
  {
   "cell_type": "markdown",
   "id": "d13ee623-bd71-48e6-a6d1-4463b087b8cf",
   "metadata": {
    "vscode": {
     "languageId": "plaintext"
    }
   },
   "source": [
    "![](out.png)"
   ]
  },
  {
   "cell_type": "markdown",
   "id": "f8d40d72-e2dc-42cf-9e93-b685061fda47",
   "metadata": {},
   "source": [
    "Schliessen Sie den Sensor an Ihr ITS-Board an. Lesen Sie Sensorwerte über den ADC im Mikrocontroller ein und übertragen die Werte über die serielle Schnittstelle an den Host. Es sollen auf dem Host die Rohwerte des ADC (digit) angezeigt werden. \n",
    "\n",
    "Nehmen Sie für die sechs Entfernungen (s.o.) jeweils sechs aufeinander folgende vom ADC ausgelesene Werte auf. Fügen Sie hier wieder die Tabelle (Distanz, sechse Messwerte, Mittelwert) mit Ihren Messwerten ein. Berechnen Sie die jeweiligen Mittelwerte Ihrer Messungen."
   ]
  },
  {
   "cell_type": "code",
   "execution_count": null,
   "id": "2c54a963-7963-4708-9697-6129aa940c0b",
   "metadata": {
    "vscode": {
     "languageId": "plaintext"
    }
   },
   "outputs": [],
   "source": [
    "| XR | M1   | M2   | M3   | M4   | M5   | M6   | RES  |\n",
    "|----|------|------|------|------|------|------|------|\n",
    "| 10 | 2693 | 2621 | 2677 | 2669 | 2612 | 2633 | 2651 |\n",
    "| 25 | 1264 | 1118 | 1068 | 1098 | 1023 | 1051 | 1104 |\n",
    "| 40 |  783 |  816 |  769 |  806 |  748 |  810 |  789 |\n",
    "| 55 |  661 |  670 |  668 |  669 |  691 |  675 |  672 |\n",
    "| 70 |  521 |  545 |  521 |  485 |  520 |  479 |  512 |\n",
    "| 85 |  387 |  372 |  358 |  350 |  397 |  342 |  368 |\n"
   ]
  },
  {
   "cell_type": "markdown",
   "id": "a87cdce5-9a3a-42e4-a699-f6187050e7c0",
   "metadata": {},
   "source": [
    "Bewerten Sie wieder die Linearität des Systems."
   ]
  },
  {
   "cell_type": "code",
   "execution_count": null,
   "id": "cf815d29-bbb4-43f8-8f75-2d48136d64b7",
   "metadata": {
    "vscode": {
     "languageId": "plaintext"
    }
   },
   "outputs": [],
   "source": [
    "Die Linearität fast genau gleich wie bei der Messung mit dem Oszilloskop. (siehe oberer Graph)"
   ]
  },
  {
   "cell_type": "markdown",
   "id": "020551fd-6f03-47a1-8851-cf4a3b2f3c4d",
   "metadata": {},
   "source": [
    "Schlagen Sie ein oder mehrere Methoden vor um der Nichtlinearität zu begegnen! Und wieso ist eine Korrektur überhaupt notwendig?"
   ]
  },
  {
   "cell_type": "code",
   "execution_count": null,
   "id": "fb12e37f-3ab6-4c06-99e9-ee01c6c17692",
   "metadata": {
    "vscode": {
     "languageId": "plaintext"
    }
   },
   "outputs": [],
   "source": [
    "- Modellierung als Quadratische Funktion (oder anderes Polynom)\n",
    "- Lookup Tabelle von ADC-Wert nach cm-Abstand\n",
    "- Aufteilung des Messbereiches in mehrere lineare Abschnitte\n",
    "\n",
    "Eine Korrektur ist notwendig, da bei Verwendung einer linearen Modellierung\n",
    "die Genauigkeit viel zu schlecht wäre (Systematischer Fehler).\n",
    "Einheitenumrechnung ist notwendig von ADC-Wert (Volt) nach Zentimeter."
   ]
  },
  {
   "cell_type": "markdown",
   "id": "54659535-9a93-49f0-8d10-555469ea5994",
   "metadata": {},
   "source": [
    "## Systementwicklung"
   ]
  },
  {
   "cell_type": "markdown",
   "id": "5627bf55-b8f4-41e2-8c7e-96909f7ea092",
   "metadata": {},
   "source": [
    "### Korrekturfunktion\n",
    "Implementieren Sie eine Korrekturmethode, mit der die ADC-Werte in Zentimeter umgerechnet werden, z.B. durch eine eigene Funktion:\n",
    "`double korrektur(uint16_t dig) { ... }`\n",
    "\n",
    "Wählen Sie die Modell und Konfiguration ihrer Korrekturmethode basierend auf Ihren Messwerten und geben Sie die Distanz jetzt in cm (mit mindestens einer Nachkommastelle) über die serielle Schnittstelle aus. Wieviele Nachkommastellen halten Sie für sinnvoll (begründen Sie ggf. über die diskrete Auflösung des Systems)?\n",
    "\n",
    "Fügen Sie hier auch den C-Code der Funktion ein."
   ]
  },
  {
   "cell_type": "code",
   "execution_count": null,
   "id": "d8c200c0-b1ed-4ffe-8da7-b2da442940a1",
   "metadata": {
    "vscode": {
     "languageId": "c"
    }
   },
   "outputs": [],
   "source": [
    "int32_t gp2_get_distance(int32_t value)\n",
    "{\n",
    "\t/* Mapping from a ADC value to millimeters */\n",
    "\ttypedef struct\n",
    "\t{\n",
    "\t\tuint16_t Value;\n",
    "\t\tuint16_t MM;\n",
    "\t} GraphPoint;\n",
    "\n",
    "\tstatic const GraphPoint gp[] =\n",
    "\t{\n",
    "\t\t/* Experimental values from Sensor 03 */\n",
    "\t\t{ 2600, 100 },\n",
    "\t\t{ 1750, 150 },\n",
    "\t\t{ 1300, 200 },\n",
    "\t\t{ 1050, 250 },\n",
    "\t\t{  915, 300 },\n",
    "\t\t{  840, 350 },\n",
    "\t\t{  818, 400 },\n",
    "\t\t{  750, 450 },\n",
    "\t\t{  690, 500 },\n",
    "\t\t{  608, 550 },\n",
    "\t\t{  560, 600 },\n",
    "\t};\n",
    "\n",
    "\tsize_t i;\n",
    "\tint32_t v1, v2, m1, m2;\n",
    "\n",
    "\t/* Loop over all pairs of adjacent points */\n",
    "\tfor(i = 0; i < sizeof(gp) / sizeof(*gp) - 1; ++i)\n",
    "\t{\n",
    "\t\tv1 = gp[i].Value;\n",
    "\t\tv2 = gp[i + 1].Value;\n",
    "\n",
    "\t\t/* Is value between two known points */\n",
    "\t\tif(value <= v1 && value >= v2)\n",
    "\t\t{\n",
    "\t\t\tm1 = gp[i].MM;\n",
    "\t\t\tm2 = gp[i + 1].MM;\n",
    "\n",
    "\t\t\t/* Linear interpolation */\n",
    "\t\t\treturn m1 + (value - v1) * (m2 - m1) / (v2 - v1);\n",
    "\t\t}\n",
    "\t}\n",
    "\n",
    "\treturn -1;\n",
    "}\n"
   ]
  },
  {
   "cell_type": "code",
   "execution_count": null,
   "id": "245a8d84",
   "metadata": {
    "vscode": {
     "languageId": "plaintext"
    }
   },
   "outputs": [],
   "source": [
    "Unsere Korrekturfunktion arbeitet mit Millimetern.\n",
    "Aufgrund der hohen Ungenauigkeit ist gar keine Nachkommastelle sinnvoll."
   ]
  },
  {
   "cell_type": "markdown",
   "id": "4ad92f9e-a4a6-4ce1-9719-58fd7a3100e3",
   "metadata": {
    "tags": []
   },
   "source": [
    "### Qualität und Performanz\n",
    "Untersuchen Sie die Qualität Ihres Sensorsystems. Führen Sie wieder Vergleichsmessungen zwischen der Referenzentfernung (Zollstock) und Ihrem Sensorsystem durch.\n",
    "\n",
    "Führen Sie drei Messungen an Entfernungen durch, wo Sie bei Ihrer Korrekturmethode eine geringe Abweichung erwarten. Führen Sie drei weitere Messungen bei Entfernungen durch, wo Sie eine hohe Abweichung auf Grund Ihrer Korrekturmethode erwarten. Begründen Sie kurz die Wahl der Punkte.\n",
    "\n",
    "Nehmen Sie pro Entfernung sechs Messwerte auf. Welcher absolute Fehler zwischen Referenz und Mittelwert der Messwerte ergibt sich bei den Entferungen jeweils?"
   ]
  },
  {
   "cell_type": "markdown",
   "id": "b9991834-bc94-4de1-affe-c420e51905c0",
   "metadata": {},
   "source": [
    "Welches Vertrauensintervall $\\pm\\nu$ ergibt sich jeweils für jede der Entfernungsmessungen für eine statistische Sicherheit von 68,3 %? \n",
    "\n",
    "Ergänzen sie hier die Tabelle der Messwerte, den Code zur Berechnung von Mittelwert, Abweichung und Vertrauensintervall, sowie die Tabelle mit den Ergebnissen."
   ]
  },
  {
   "cell_type": "code",
   "execution_count": null,
   "id": "85174831-1445-4a0c-b9f1-4b2d0ac38256",
   "metadata": {
    "vscode": {
     "languageId": "plaintext"
    }
   },
   "outputs": [],
   "source": [
    "Erwartung: bei hohen Entfernungen größere Abweichung,\n",
    "da die Steigung der Kurve dort abnimmt, sodass sich\n",
    "Rauschen stärker auswirkt.\n",
    "\n",
    "| EW | AS | M1 | M2 | M3 | M4 | M5 | M6 | MW | AW | VI |\n",
    "|----|----|----|----|----|----|----|----|----|----|----|\n",
    "|  G | 15 |14.8|14.7|14.8|14.9|14.8|14.6|14.8|0.23|0.28|\n",
    "|  G | 20 |19.8|19.9|19.9|19.8|19.7|20.0|19.8|0.15|0.2 |\n",
    "|  G | 25 |24.6|24.7|24.4|24.5|24.6|24.7|24.6|0.42|0.47|\n",
    "\n",
    "|  H | 50 |51.3|51.2|51.1|51.2|51.5|50.8|51.2|1.18|1.29|\n",
    "|  H | 55 |54.7|54.8|55.0|53.9|53.6|54.0|54.3|0.67|0.93|\n",
    "|  H | 60 |57.6|57.7|57.6|57.5|57.6|57.3|57.5|2.45|2.51|\n",
    "\n",
    "EW: Erwartete Abweichung (G: Gering, H: Hoch)\n",
    "AS: Realer Abstand\n",
    "M1-6: Messungen 1-6\n",
    "MW: Mittelwert\n",
    "AW: Abweichung\n",
    "VI: Vertrauensintervall\n",
    "Statistische Sicherheit: 68,3 %\n",
    "n = 6\n",
    "-> t-Faktor: 1,11 (Aus Tabelle in Vorlesung)\n"
   ]
  },
  {
   "cell_type": "markdown",
   "id": "8167a925-da56-490a-a3c4-2eec5bf9400a",
   "metadata": {},
   "source": [
    "Welche Laufzeitkomplexität hat Ihre Korrekturfunktion? (O-Notation oder Floating-Point-Operations)"
   ]
  },
  {
   "cell_type": "code",
   "execution_count": null,
   "id": "d3a9cf6e-ce07-45b3-bb93-791c5ab20d17",
   "metadata": {
    "vscode": {
     "languageId": "plaintext"
    }
   },
   "outputs": [],
   "source": [
    "O(1), da die Eingabegröße immer nur eine Zahl (ADC-Wert)\n",
    "ist und die Anzahl der Schleifendurchläufe zur Compilezeit\n",
    "durch die Anzahl der Vergleichswerte beschränkt ist.\n",
    "Insgesamt unter 200 CPU Clock Cycles (geschätzt)"
   ]
  },
  {
   "cell_type": "markdown",
   "id": "95e4f161-01ad-4108-b465-aedd9608206c",
   "metadata": {},
   "source": [
    "Kann eine Datenrate von 4 Hz von dem gesamten System erreicht werden? Was wäre die maximal erreichbare Datenrate ihres derzeitigen Systems? Überlegen Sie dazu, welches Ihrer Teilsysteme welche maximale Bandbreite besitzt."
   ]
  },
  {
   "cell_type": "code",
   "execution_count": null,
   "id": "9c690e91",
   "metadata": {
    "vscode": {
     "languageId": "plaintext"
    }
   },
   "outputs": [],
   "source": [
    "Die Datenrate von 4 Hz kann erreicht werden. Die maximale Datenrate wäre:\n",
    "\n",
    "115200 UART -> 11520 Zeichen pro Sekunde,\n",
    "bei 4 Zeichen pro Messung (max 3 Ziffern + Newline)\n",
    "sind das etwa 3000 Messungen pro Sekunde.\n",
    "\n",
    "Der ADC wird mit Prescaler 4 und 56 Cycles\n",
    "pro Messung betrieben, also 180 MHz / 4 / 56 = 800 kHz\n",
    "Da wir aus 2^16 Messungen den Durchschitt bilden um \n",
    "das Rauschen (stochastischer Fehler) zu Reduzieren,\n",
    "sind das ungefähr 13 ADC-Messungen die Sekunde.\n",
    "(Die Anzahl der Messungen kann aber leicht reduziert werden,\n",
    "mit geringem Genauigkeitsverlust)\n",
    "\n",
    "CPU Berechnungen: nicht relevant ~ 1 Mhz (geschätzt)\n",
    "\n",
    "Der Sensor selber braucht für eine Messung\n",
    "38.3 ms +/- 9.6 ms also sind in einer Sekunde\n",
    "20 - 34 (im Durchschnitt 26) Messungen möglich.\n",
    "(Quelle: Datasheet Timing Diagram auf Seite 4)\n",
    "\n",
    "-> Der Sensor selbst ist der limitierende Faktor\n"
   ]
  },
  {
   "cell_type": "markdown",
   "id": "60720b07-5347-437f-abb3-fc81bf302bdb",
   "metadata": {},
   "source": [
    "Bei ADCs tritt ein sogenanntes \"digitales Rauschen\" auf, d.h. das LSB rauscht. Welche (maximale) Auswirkung hat dieses Rauschen von einem Bit auf die in Ihrem System bestimmte Entfernung?"
   ]
  },
  {
   "cell_type": "code",
   "execution_count": null,
   "id": "27b0580d-859b-4996-bf46-596f87bc3245",
   "metadata": {
    "vscode": {
     "languageId": "plaintext"
    }
   },
   "outputs": [],
   "source": [
    "Da wir über viele ADC Werte mitteln, wird ADC Rauschen\n",
    "minimiert.\n",
    "\n",
    "Ohne diese Mittelung ergibt sich, dass\n",
    "die größte mögliche Abweichung durch ADC LSB Rauschen\n",
    "ca 2 cm beträgt."
   ]
  },
  {
   "attachments": {},
   "cell_type": "markdown",
   "id": "fc137edb-702d-44e5-82a5-9ba662d7aa3c",
   "metadata": {},
   "source": [
    "# Anhang\n",
    "\n",
    "![t-Verteilung]<>(t-VerteilungDIN1319-3.png)"
   ]
  },
  {
   "cell_type": "markdown",
   "id": "9de83bb3-d6f4-4691-a54d-de42c24f87cc",
   "metadata": {},
   "source": []
  }
 ],
 "metadata": {
  "kernelspec": {
   "display_name": "Python 3 (ipykernel)",
   "language": "python",
   "name": "python3"
  },
  "language_info": {
   "codemirror_mode": {
    "name": "ipython",
    "version": 3
   },
   "file_extension": ".py",
   "mimetype": "text/x-python",
   "name": "python",
   "nbconvert_exporter": "python",
   "pygments_lexer": "ipython3",
   "version": "3.11.3"
  }
 },
 "nbformat": 4,
 "nbformat_minor": 5
}
