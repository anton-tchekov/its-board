{
 "cells": [
  {
   "attachments": {},
   "cell_type": "markdown",
   "id": "eafc4fcf-0a48-41c8-a92e-e77575c87916",
   "metadata": {},
   "source": [
    "Version 1.0.1 24.03.2023\n",
    "\n",
    "# Praktikum 1 Intelligente Sensorsysteme \n",
    "Tim Tiedemann, Thomas Lehmann, Roman Kusche, Tobias de Gasperis "
   ]
  },
  {
   "cell_type": "markdown",
   "id": "dedeb6fa-90d1-461f-8f9a-bafa5f68a1f2",
   "metadata": {},
   "source": [
    "# Einfaches (intelligentes) Sensorsystem\n",
    "Im Praktikum 1 geht es um die Eigenschaften eines einfachen, gerade noch nicht intelligenten Sensorsystems, sowie eine erste Sensordatenverarbeitung mittels Mikrocontroller. Es sollen dazu die Eigenschaften des Systems ermittelt und durch geeignete Software idealisiert werden.\n",
    "\n",
    "Lesen Sie sich die Aufgaben gut durch. Sollten Sie eine Aufgabe nicht lösen können, so beschreiben Sie zumindest, wie weit Sie gekommen sind und auf welche Weise Sie vorgegangen sind.\n",
    "\n",
    "Beachten Sie auf der methodischen Seite, dass es bei einem Experiment die Schritte der Dokumentation wesentlicher Aspekte des Aufbaus, der Datenerhebung, der Datenauswertung und der Kommentierung des Ergebnisses gibt. Alle Diagramme sind entsprechend korrekt zu beschriften.\n",
    "\n",
    "Die Aufgaben sind direkt hier als Protokoll zu bearbeiten. Das abgegebene Notebook soll ausführbar sein. Daneben ist der PDF-Export des Notebook mit abzugeben."
   ]
  },
  {
   "cell_type": "markdown",
   "id": "3c0f9c93-d870-4661-8761-b7419131de89",
   "metadata": {},
   "source": [
    "Autoren des Protokolls: Haron Nazari, Anton Tchekov"
   ]
  },
  {
   "attachments": {},
   "cell_type": "markdown",
   "id": "10c976ec-8a7d-439f-9464-203434d6b124",
   "metadata": {},
   "source": [
    "# Fallbeschreibung\n",
    "Ein Forschungsroboter soll zur besseren Kollisionsvermeidung den Abstand zu Objekten in der Umgebung erfassen. Für die Abstandsmessung soll ein Sensorknoten entwickelt werden, der den Abstand optisch ermittelt und die Entfernung über serielle Schnittstelle in Zentimeter \\[cm\\] ausgibt. Die Übertragung erfolgt im Klartext als Gleitkommazahl. Jeder Messwert wird durch Zeilenumbruch von dem vorherigen Messwert getrennt. Es muss eine Messrate von mindestens 4 Hz erreicht werden.\n",
    "\n",
    "Für einen ersten Prototyp wurde der Sensor Sharp GP2Y0A21 ausgesucht. Als Mikrocontrollersystem steht ein Development-Kit Nucleo144-F429ZI der Firma STMicroelectronics zur Verfügung.\n",
    "\n",
    "Entwickeln Sie einen ersten Prototypen für das Sensorsystem auf Basis des Sensors und des Mikrocontrollersystems. Beurteilen Sie dabei die Qualität des Sensorsystems.\n"
   ]
  },
  {
   "cell_type": "markdown",
   "id": "dd218564-00b5-4517-8585-e95e261dd740",
   "metadata": {},
   "source": [
    "# Vorbereitungsaufgaben\n",
    "## Mikrocontroller\n",
    "Beschaffen Sie sich Datenblätter und ggf. weiteres Informationsmaterial zu dem ITS-Mikrocontroller-Board mit dem Nucleo144-F429ZI-Board. Was für ein Mikrocontroller ist darauf verbaut? Welche Informationen in den Datenblättern sind für die Bearbeitung der Praktikumsaufgabe relevant (auflisten)?"
   ]
  },
  {
   "cell_type": "markdown",
   "id": "51d4e74e-253f-4efc-8b6f-ddd9ef7538ea",
   "metadata": {},
   "source": [
    "Es ist ein STM32F429ZI verbaut. Für uns ist erstmal nur Abschnitt 13 (Analog-to-digital Converter) und Abschnitt 30 (USART) wichtig."
   ]
  },
  {
   "cell_type": "markdown",
   "id": "aec35bd9-b30f-4c9a-8f5f-d08b0145c6d4",
   "metadata": {},
   "source": [
    "## Sensor\n",
    "Es soll der Sensor vom Typ Sharp GP2Y0A21 verwendet werden. Beschaffen Sie sich das entsprechende Datenblatt. Welche Quellen für Datenblätter gibt es? Welche haben Sie warum gewählt?"
   ]
  },
  {
   "cell_type": "markdown",
   "id": "4086357e-683f-408b-9245-2fc1e826e95a",
   "metadata": {},
   "source": [
    "Wir haben das Datenblatt vom Sensor-Hersteller geholt, es gab alternativ Datasheet-Datenbanken oder auf Distributor-\n",
    "Seiten Datenblätter."
   ]
  },
  {
   "cell_type": "markdown",
   "id": "a15f2d5f-97da-4040-8553-4043064c897a",
   "metadata": {},
   "source": [
    "Welche Abschnitte gibt es grob in dem Datenblatt? Welche Informationen in dem Datenblatt sind für die Bearbeitung der Praktikumsaufgabe relevant (auflisten)?"
   ]
  },
  {
   "cell_type": "markdown",
   "id": "bec1f5e4-4f43-4c69-b1a8-95319559338a",
   "metadata": {},
   "source": [
    "Es gibt Anfangs eine Overview von den wichtigsten Charakteristiken, ein Block Diagramm des Sensors und die Dimensionen mit dem Electical Characteristics.\n",
    "Es kommt danach ein Timing Chart, welcher darstellt wie der Sensor Intern Arbeitet und welche Wartezeit man erwarten kann.\n",
    "\n",
    "Danach kommt das Wichtigste für das Praktikum: 2 Graphen, welche uns sagen was am Pin Vout vom Sensor anliegt bei welcher gemessenen Distanz.\n",
    "\n",
    "Zuletzt kommen ein paar Usage tipps.\n",
    "\n",
    "Für uns derzeit ist relevant:\n",
    "\n",
    "- Pinout des Sensors\n",
    "- Die Graphen\n",
    "- Die Electrical Characteristics\n",
    "- Timing Chart"
   ]
  },
  {
   "cell_type": "markdown",
   "id": "e3568755-8972-40b1-a648-825c9496c3e7",
   "metadata": {},
   "source": [
    "Um was für eine Art von Sensor handelt es sich? Beschreiben Sie kurz das Funktionsprinzip des Sensors."
   ]
  },
  {
   "cell_type": "markdown",
   "id": "09f62a5f-84e2-4593-9074-5887f251903c",
   "metadata": {},
   "source": [
    "Ein Sensor zur Distanzermittlung, welcher mit Infrarot LEDs funktioniert. Die Entfernung wird über Triangulation bestimmt. Der Winkel, unter dem das Licht reflektiert wird, ändert sich je nach Entfernung. Der Sensor besitzt zur Messung des Winkels eine ortsauflösende Photodiode. Aus dem Winkel berechnet der Sensor dann die Entfernung."
   ]
  },
  {
   "attachments": {},
   "cell_type": "markdown",
   "id": "27356a95",
   "metadata": {},
   "source": [
    "## Vorbereitung auf das Labor\n",
    "\n",
    "Lesen sie die Aufgaben, welche im Labor durchgeführt werden sollen durch.\n",
    "\n",
    "Erstellen Sie, wenn noch nicht vorhanden einen github-Account um Zugang zu der bereitgestellten Software für das ITS-BRD zu bekommen. Teilen Sie den Namen ihres github-Accounts über die entsprechende Buchungsliste mit (siehe Teams-Raum).\n",
    "\n",
    "Legen Sie ein neues Projekt mit hilfe der Batch-Datei newProgramADC.bat aus dem Submodul ITS_BRD_Sensorik an. Versuchen Sie dieses Projekt zu öffnen und zu kompilieren.\n",
    "\n",
    "Sammeln Sie alle Fragen und Probleme auf die Sie dabei stoßen."
   ]
  },
  {
   "cell_type": "markdown",
   "id": "abfdb9c6",
   "metadata": {},
   "source": [
    "Hat problemlos kompiliert und funktioniert"
   ]
  },
  {
   "cell_type": "markdown",
   "id": "c94c0917-4017-4a74-a565-1e97a9fe26d1",
   "metadata": {},
   "source": [
    "# Im Labor"
   ]
  },
  {
   "cell_type": "markdown",
   "id": "951d04ac-a477-40c5-b251-14e9da4ced6e",
   "metadata": {},
   "source": [
    "## Analoge Entfernungsmessung"
   ]
  },
  {
   "cell_type": "markdown",
   "id": "132f6b3a-7da9-48d0-90c8-4f187cc03bbc",
   "metadata": {},
   "source": [
    "Nehmen Sie den Sensor Sharp GP2Y0A21 in Absprache mit dem Tutor mit Labornetzteil und Oszilloskop in Betrieb. Skizzieren Sie vorab einen Schaltplan, sprechen diesen mit dem Tutor ab und bauen Sie dann die Verdrahtung auf. \n",
    "\n",
    "Fügen Sie die Skizze hier ein."
   ]
  },
  {
   "cell_type": "markdown",
   "id": "0058302f-5d37-4c0c-9f8b-c251ecc6769d",
   "metadata": {},
   "source": [
    "Untersuchen Sie das Verhalten des Sensors. Was beobachten Sie?"
   ]
  },
  {
   "cell_type": "markdown",
   "id": "ae61f483-1937-4405-bd7c-b1d51faff935",
   "metadata": {},
   "source": [
    "Je größer die Entfernung, desto geringer die Ausgangsspannung. Bei sehr kleinen Entfernungen (unter 6 cm) sinkt die Spannung wieder."
   ]
  },
  {
   "cell_type": "markdown",
   "id": "2c971a0b-f353-41a0-87fa-0d9de58288f1",
   "metadata": {},
   "source": [
    "Wählen Sie sechs Entfernungen aus und messen Sie jeweils das Ausgangssignal des Sensors.\n",
    "Verwenden Sie das Anhalten des Scans, um die Breite des Rauschens abzuschätzen. Alternativ kann die Min-/Max-Funktion des Oszilloskops helfen, um Minimal- und Maximalwert zu messen – aber Achtung: Ausreißer sollen hierbei nicht beachtet werden! Für Ausreißer in Messsignalen werden wir noch andere Methoden betrachten.\n",
    "\n",
    "Fügen Sie hier eine Tabelle mit den Messwerten (Distanz, Messwert, Rauschbreite) ein. Welche Einheit haben die Werte? "
   ]
  },
  {
   "cell_type": "code",
   "execution_count": null,
   "id": "d836b95b-b97d-4dcf-ab94-8648bf2fbde7",
   "metadata": {},
   "outputs": [],
   "source": [
    "| Entfernung cm | Spannung Vo | Rauschbreite |\n",
    "|---------------|-------------|--------------|\n",
    "|            10 |        2.2  |         0.1  |\n",
    "|            25 |        0.9  |         0.1  |\n",
    "|            40 |        0.7  |         0.14 |\n",
    "|            55 |        0.57 |         0.13 |\n",
    "|            70 |        0.49 |         0.13 |\n",
    "|            85 |        0.34 |         0.12 |\n",
    "\n",
    "Die Werte haben die Einheit Volt."
   ]
  },
  {
   "cell_type": "markdown",
   "id": "a6000bb0-cf89-4832-aa70-1ce5f69688c8",
   "metadata": {},
   "source": [
    "Stellen Sie Ihre Messwerte graphisch in einem linearen Koordinatensystem dar. Versuchen Sie, eine Funktion $y = y_0 + m · x$ entlang Ihren Messdaten zu legen. Wie haben Sie die Koeffizienten der Funktion ermittelt? Wie gut passt das lineare Modell zu Ihren Daten? Haben Sie eine Erklärung dafür?"
   ]
  },
  {
   "cell_type": "code",
   "execution_count": null,
   "id": "bcebfb65-ec1a-4542-bfe5-4750ad4910ad",
   "metadata": {},
   "outputs": [],
   "source": [
    "y = -0.02 * x + 1.83\n",
    "\n",
    "Die Koeffizienten mit LibreOffice Chart -> Trend Line ermitteln\n",
    "\n",
    "Das lineare Modell passt nicht so gut (Libreoffice R^2 Wert: 0.7)\n",
    "\n",
    "Der Sensor liefert einfach keine linearen Daten (Wahrscheinlich weil es intern mit Winkeln arbeitet)"
   ]
  },
  {
   "cell_type": "markdown",
   "id": "cec99541-0af6-4ebb-bcbe-045dfad7ec2d",
   "metadata": {},
   "source": [
    "Erkennen Sie irgendwelche Probleme bei diesem Versuchsaufbau oder gab es Fehlannahmen über das erwartete Verhalten? Beschreiben Sie kurz."
   ]
  },
  {
   "cell_type": "markdown",
   "id": "6d4c2ac0",
   "metadata": {},
   "source": [
    "Verhalten war wie erwartet (durch Diagramm im Datasheet), Rauschen war unerwartet hoch"
   ]
  },
  {
   "cell_type": "markdown",
   "id": "16cd2161-c630-444c-af9d-b9b40c94da99",
   "metadata": {},
   "source": []
  },
  {
   "cell_type": "markdown",
   "id": "e93f605a-6249-4a3e-8893-ac204d55297d",
   "metadata": {},
   "source": [
    "Was fällt Ihnen insgesamt an dem Sensorverhalten auf? Gibt es negative Eigenschaften? Erkennen Sie zwei verschiedene Arten von Störungen, die zu falschen Messwerten führen?\n"
   ]
  },
  {
   "cell_type": "markdown",
   "id": "318ccf12-71b7-4f78-bca2-ca60440ef4d5",
   "metadata": {},
   "source": [
    "Negativ ist:\n",
    "Es gibt zwei Entfernungen die zu der selben Spannung führen (Weite und sehr nahe Entfernungen)\n",
    "Sodass man nur durch einen Sensorwert nicht absolut wissen kann, was die Entfernung ist.\n",
    "\n",
    "Elektrische Störungen (Rauschen) -> Zufälliger/Stochastischer Fehler\n",
    "\n",
    "Ungenauigkeit des Sensors -> systematischen Messfehler"
   ]
  },
  {
   "cell_type": "markdown",
   "id": "26182231-07d2-4eb3-8211-e8a8b6f2a0ec",
   "metadata": {},
   "source": [
    "## Digitale Entfernungsmessung"
   ]
  },
  {
   "attachments": {},
   "cell_type": "markdown",
   "id": "8bf5fb32-97c3-4d1b-99b1-bd557bfc318f",
   "metadata": {},
   "source": [
    "### Analyse der Vorarbeiten in der Software\n",
    "Im Rahmen der Vorauswahl von Sensor und Mikrocontroller-Board wurde schon ein erstes Beispielprojekt erstellt. Das Keil-Projekt erhalten Sie über github\n",
    "\n",
    "Eventuell muss in der Keil-Umgebung vor dem / beim ersten Start die Unterstützung des verwendeten Mikrocontrollers nachinstalliert werden."
   ]
  },
  {
   "cell_type": "markdown",
   "id": "e93a4a4f-9585-41c6-b539-e12acbe8c7b5",
   "metadata": {},
   "source": [
    "Analysieren Sie sich das zur Verfügung gestellte Projekt. Was wurde bereits in den Vorarbeiten erledigt? Wo/wie werden die Mikrocontroller-internen Komponenten angesteuert? Wo die initiale Konfiguration der Mikrocontroller-internen Komponenten? Wo findet ein Zugriff auf die ADC-Ergebnisse statt? Insbesondere, wo findet die Board-spezifische Konfiguration statt: An welchem Pin des Controllers wird der Analogwert eingelesen?"
   ]
  },
  {
   "cell_type": "markdown",
   "id": "f2356451-e0db-4980-b9ce-802df5f11ce6",
   "metadata": {},
   "source": [
    "Der Analogwert wird vom Pin ADC3_6 ausgelesen.\n",
    "\n",
    "Die Konfiguration der Mikrocontroller-Komponenten erfolgt in den \"init\" Funktionen.\n",
    "\n",
    "Der Zugriff auf den ADC erfolgt in dem Super-Loop, wo der Wert ausgelesen und über die\n",
    "Serielle Schnittstelle (UART) an den PC weitergeleitet wird."
   ]
  },
  {
   "cell_type": "markdown",
   "id": "4cbed4fe-9abe-47c7-8185-0b83070e5390",
   "metadata": {},
   "source": [
    "Kompilieren Sie das Programm und laden es auf den Mikrocontroller. Prüfen Sie die Funktionsweise des Programms. \n",
    "\n",
    "Auf dem PC/Notebook benötigen Sie ein Programm, um die serielle Schnittstelle auszulesen, z.B. TeraTerm oder HyperTerm, das passend konfiguriert sein muss.\n",
    "\n",
    "Falls Sie mit der der Simulation in Keil arbeiten, müssen Sie (im Simulations-/Debug-Modus) unter “View”–“Serial Windows” den “UART#2” auswählen. Dieses Fenster ist im ursprünglichen Projekt bereits geöffnet. Fragen Sie ggf. Ihren Tutor dazu."
   ]
  },
  {
   "cell_type": "markdown",
   "id": "ecbe5b1d-5283-4099-a804-088e59c80183",
   "metadata": {},
   "source": [
    "### Analyse Systemverhalten "
   ]
  },
  {
   "cell_type": "markdown",
   "id": "0dea5b7d-1202-4e1d-9c55-8aac727c572d",
   "metadata": {},
   "source": [
    "Vor der Entwicklung des Prototypen muss nun das Systemverhalten des Sensors in Kombination mit dem Mikrocontroller ebenfalls analysiert werden."
   ]
  },
  {
   "cell_type": "markdown",
   "id": "c6179e5c-30af-4c53-99b0-e92eac144ab0",
   "metadata": {},
   "source": [
    "Skizzieren Sie Ihren Aufbau (Kästchengrafik) ihres Systems, ggf. auf Papier, und fügen Sie das Bild hier ein."
   ]
  },
  {
   "cell_type": "code",
   "execution_count": null,
   "id": "d13ee623-bd71-48e6-a6d1-4463b087b8cf",
   "metadata": {},
   "outputs": [],
   "source": [
    "Siehe Blatt Papier."
   ]
  },
  {
   "cell_type": "markdown",
   "id": "f8d40d72-e2dc-42cf-9e93-b685061fda47",
   "metadata": {},
   "source": [
    "Schliessen Sie den Sensor an Ihr ITS-Board an. Lesen Sie Sensorwerte über den ADC im Mikrocontroller ein und übertragen die Werte über die serielle Schnittstelle an den Host. Es sollen auf dem Host die Rohwerte des ADC (digit) angezeigt werden. \n",
    "\n",
    "Nehmen Sie für die sechs Entfernungen (s.o.) jeweils sechs aufeinander folgende vom ADC ausgelesene Werte auf. Fügen Sie hier wieder die Tabelle (Distanz, sechse Messwerte, Mittelwert) mit Ihren Messwerten ein. Berechnen Sie die jeweiligen Mittelwerte Ihrer Messungen."
   ]
  },
  {
   "cell_type": "code",
   "execution_count": null,
   "id": "2c54a963-7963-4708-9697-6129aa940c0b",
   "metadata": {},
   "outputs": [],
   "source": [
    "| Entfernung cm | M1   | M2   | M3   | M4   | M5   | M6   | RES  |\n",
    "|---------------|------|------|------|------|------|------|------|\n",
    "|            10 | 2693 | 2621 | 2677 | 2669 | 2612 | 2633 | 2651 |\n",
    "|            25 | 1264 | 1118 | 1068 | 1098 | 1023 | 1051 | 1104 |\n",
    "|            40 |  783 |  816 |  769 |  806 |  748 |  810 |  789 |\n",
    "|            55 |  661 |  670 |  668 |  669 |  691 |  675 |  672 |\n",
    "|            70 |  521 |  545 |  521 |  485 |  520 |  479 |  512 |\n",
    "|            85 |  387 |  372 |  358 |  350 |  397 |  342 |  368 |\n"
   ]
  },
  {
   "cell_type": "markdown",
   "id": "a87cdce5-9a3a-42e4-a699-f6187050e7c0",
   "metadata": {},
   "source": [
    "Bewerten Sie wieder die Linearität des Systems."
   ]
  },
  {
   "cell_type": "code",
   "execution_count": null,
   "id": "cf815d29-bbb4-43f8-8f75-2d48136d64b7",
   "metadata": {},
   "outputs": [],
   "source": [
    "Die Linearität gleich schlecht wie bei der Messung mit dem Oszilloskop. (siehe LibreOffice Chart)"
   ]
  },
  {
   "cell_type": "markdown",
   "id": "020551fd-6f03-47a1-8851-cf4a3b2f3c4d",
   "metadata": {},
   "source": [
    "Schlagen Sie ein oder mehrere Methoden vor um der Nichtlinearität zu begegnen! Und wieso ist eine Korrektur überhaupt notwendig?"
   ]
  },
  {
   "cell_type": "code",
   "execution_count": null,
   "id": "fb12e37f-3ab6-4c06-99e9-ee01c6c17692",
   "metadata": {},
   "outputs": [],
   "source": [
    "- Modellierung als Quadratische Funktion (oder anderes Polynom)\n",
    "- Lookup Tabelle von ADC-Wert nach cm-Abstand\n",
    "\n",
    "Eine Korrektur ist notwendig, da bei Verwendung einer linearen Modellierung die Genauigkeit viel\n",
    "zu schlecht wäre (Systematischer Fehler)."
   ]
  },
  {
   "cell_type": "markdown",
   "id": "54659535-9a93-49f0-8d10-555469ea5994",
   "metadata": {},
   "source": [
    "## Systementwicklung"
   ]
  },
  {
   "cell_type": "markdown",
   "id": "5627bf55-b8f4-41e2-8c7e-96909f7ea092",
   "metadata": {},
   "source": [
    "### Korrekturfunktion\n",
    "Implementieren Sie eine Korrekturmethode, mit der die ADC-Werte in Zentimeter umgerechnet werden, z.B. durch eine eigene Funktion:\n",
    "`double korrektur(uint16_t dig) { ... }`\n",
    "\n",
    "Wählen Sie die Modell und Konfiguration ihrer Korrekturmethode basierend auf Ihren Messwerten und geben Sie die Distanz jetzt in cm (mit mindestens einer Nachkommastelle) über die serielle Schnittstelle aus. Wieviele Nachkommastellen halten Sie für sinnvoll (begründen Sie ggf. über die diskrete Auflösung des Systems)?\n",
    "\n",
    "Fügen Sie hier auch den C-Code der Funktion ein."
   ]
  },
  {
   "cell_type": "code",
   "execution_count": null,
   "id": "d8c200c0-b1ed-4ffe-8da7-b2da442940a1",
   "metadata": {},
   "outputs": [],
   "source": [
    "#define ARRLEN(A) (sizeof(A) / sizeof(*A))\n",
    "\n",
    "typedef struct\n",
    "{\n",
    "\tuint16_t Voltage;\n",
    "\tuint16_t MM;\n",
    "} GraphPoint;\n",
    "\n",
    "static const GraphPoint gp[] =\n",
    "{\n",
    "\t{ 315,  60 },\n",
    "\t{ 295,  70 },\n",
    "\t{ 273,  80 },\n",
    "\t{ 231, 100 },\n",
    "\t{ 164, 150 },\n",
    "\t{ 131, 200 },\n",
    "\t{ 108, 250 },\n",
    "\t{  92, 300 },\n",
    "\t{  74, 400 },\n",
    "\t{  61, 500 },\n",
    "\t{  52, 600 },\n",
    "\t{  45, 700 },\n",
    "\t{  40, 800 },\n",
    "};\n",
    "\n",
    "static inline int32_t lerp_y(int32_t y,\n",
    "\tint32_t y1, int32_t y2, int32_t x1, int32_t x2)\n",
    "{\n",
    "\treturn (x1 + (y - y1) * (x2 - x1) / (y2 - y1));\n",
    "}\n",
    "\n",
    "static inline int32_t closest_voltage_left(uint32_t voltage)\n",
    "{\n",
    "\tint32_t i;\n",
    "\tfor(i = 0; i < (int32_t)ARRLEN(gp) - 1; ++i)\n",
    "\t{\n",
    "\t\tif(gp[i].Voltage >= voltage &&\n",
    "\t\t\tgp[i + 1].Voltage <= voltage)\n",
    "\t\t{\n",
    "\t\t\treturn i;\n",
    "\t\t}\n",
    "\t}\n",
    "\n",
    "\treturn -1;\n",
    "}\n",
    "\n",
    "int32_t gp2_get_distance(uint32_t voltage)\n",
    "{\n",
    "\tint32_t li = closest_voltage_left(voltage);\n",
    "\tif(li < 0)\n",
    "\t{\n",
    "\t\treturn -1;\n",
    "\t}\n",
    "\n",
    "\treturn lerp_y(voltage, gp[li].Voltage, gp[li + 1].Voltage,\n",
    "\t\tgp[li].MM, gp[li + 1].MM);\n",
    "}\n",
    "\n",
    "Aufgrund des Rauschens (0.1 V) ist gar keine Nachkommastelle sinnvoll."
   ]
  },
  {
   "cell_type": "markdown",
   "id": "4ad92f9e-a4a6-4ce1-9719-58fd7a3100e3",
   "metadata": {
    "tags": []
   },
   "source": [
    "### Qualität und Performanz\n",
    "Untersuchen Sie die Qualität Ihres Sensorsystems. Führen Sie wieder Vergleichsmessungen zwischen der Referenzentfernung (Zollstock) und Ihrem Sensorsystem durch.\n",
    "\n",
    "Führen Sie drei Messungen an Entfernungen durch, wo Sie bei Ihrer Korrekturmethode eine geringe Abweichung erwarten. Führen Sie drei weitere Messungen bei Entfernungen durch, wo Sie eine hohe Abweichung auf Grund Ihrer Korrekturmethode erwarten. Begründen Sie kurz die Wahl der Punkte.\n",
    "\n",
    "Nehmen Sie pro Entfernung sechs Messwerte auf. Welcher absolute Fehler zwischen Referenz und Mittelwert der Messwerte ergibt sich bei den Entferungen jeweils?"
   ]
  },
  {
   "cell_type": "markdown",
   "id": "b9991834-bc94-4de1-affe-c420e51905c0",
   "metadata": {},
   "source": [
    "Welches Vertrauensintervall $\\pm\\nu$ ergibt sich jeweils für jede der Entfernungsmessungen für eine statistische Sicherheit von 68,3 %? \n",
    "\n",
    "Ergänzen sie hier die Tabelle der Messwerte, den Code zur Berechnung von Mittelwert, Abweichung und Vertrauensintervall, sowie die Tabelle mit den Ergebnissen."
   ]
  },
  {
   "cell_type": "code",
   "execution_count": null,
   "id": "85174831-1445-4a0c-b9f1-4b2d0ac38256",
   "metadata": {},
   "outputs": [],
   "source": [
    "Erwartung: bei hohen Entfernungen größere Abweichung, da die Steigung der Kurve dort abnimmt,\n",
    "sodass sich Rauschen stärker Auswirkt.\n",
    "\n",
    "3x geringe Abweichung:\n",
    "\n",
    "15 cm : 14.2 - 14.7\n",
    "20 cm : 19.4 - 20.2\n",
    "25 cm : 25.0 - 27.3\n",
    "\n",
    "3x hohe Abweichung:\n",
    "\n",
    "55 cm : 50.0 - 56.6\n",
    "60 cm : 57.5 - 66.4\n",
    "65 cm : 62.5 - 73.5"
   ]
  },
  {
   "cell_type": "markdown",
   "id": "8167a925-da56-490a-a3c4-2eec5bf9400a",
   "metadata": {},
   "source": [
    "Welche Laufzeitkomplexität hat Ihre Korrekturfunktion? (O-Notation oder Floating-Point-Operations)"
   ]
  },
  {
   "cell_type": "code",
   "execution_count": null,
   "id": "d3a9cf6e-ce07-45b3-bb93-791c5ab20d17",
   "metadata": {},
   "outputs": [],
   "source": [
    "O(1), da die Eingabegröße immer nur eine Zahl (ADC-Wert) ist.\n",
    "Insgesamt unter 100 CPU Clock Cycles (geschätzt)"
   ]
  },
  {
   "cell_type": "markdown",
   "id": "95e4f161-01ad-4108-b465-aedd9608206c",
   "metadata": {},
   "source": [
    "Kann eine Datenrate von 4 Hz von dem gesamten System erreicht werden? Was wäre die maximal erreichbare Datenrate ihres derzeitigen Systems? Überlegen Sie dazu, welches Ihrer Teilsysteme welche maximale Bandbreite besitzt."
   ]
  },
  {
   "cell_type": "code",
   "execution_count": null,
   "id": "9c690e91",
   "metadata": {},
   "outputs": [],
   "source": [
    "Die Datenrate von 4 Hz kann erreicht werden. Die maximale Datenrate wäre:\n",
    "\n",
    "115200 UART -> 11520 Zeichen pro Sekunde, bei 4 chars pro messung (max 3 Ziffern + Newline)\n",
    "sind das etwa 3000 Messungen pro Sekunde.\n",
    "\n",
    "Der ADC wird mit Prescaler 4 und 56 Cycles pro Messung betrieben, also 180 MHz / 4 / 56 = 800 kHz\n",
    "\n",
    "CPU Berechnungen: 1.8 Mhz (geschätzt)\n",
    "\n",
    "Wie schnell der Sensor selbst messen kann konnten wir nicht herausfinden\n",
    "\n",
    "-> Der UART ist der limitierende Faktor"
   ]
  },
  {
   "cell_type": "code",
   "execution_count": null,
   "id": "68315a34-b7ea-4fd5-881a-1c78677177f9",
   "metadata": {},
   "outputs": [],
   "source": []
  },
  {
   "cell_type": "markdown",
   "id": "60720b07-5347-437f-abb3-fc81bf302bdb",
   "metadata": {},
   "source": [
    "Bei ADCs tritt ein sogenanntes \"digitales Rauschen\" auf, d.h. das LSB rauscht. Welche (maximale) Auswirkung hat dieses Rauschen von einem Bit auf die in Ihrem System bestimmte Entfernung?"
   ]
  },
  {
   "cell_type": "code",
   "execution_count": null,
   "id": "27b0580d-859b-4996-bf46-596f87bc3245",
   "metadata": {},
   "outputs": [],
   "source": [
    "Die größte mögliche Abweichung furch ADC LSB Rauschen beträgt ca 2 cm"
   ]
  },
  {
   "attachments": {},
   "cell_type": "markdown",
   "id": "fc137edb-702d-44e5-82a5-9ba662d7aa3c",
   "metadata": {},
   "source": [
    "# Anhang\n",
    "\n",
    "![t-Verteilung]<>(t-VerteilungDIN1319-3.png)"
   ]
  },
  {
   "cell_type": "markdown",
   "id": "9de83bb3-d6f4-4691-a54d-de42c24f87cc",
   "metadata": {},
   "source": []
  }
 ],
 "metadata": {
  "kernelspec": {
   "display_name": "Python 3 (ipykernel)",
   "language": "python",
   "name": "python3"
  },
  "language_info": {
   "codemirror_mode": {
    "name": "ipython",
    "version": 3
   },
   "file_extension": ".py",
   "mimetype": "text/x-python",
   "name": "python",
   "nbconvert_exporter": "python",
   "pygments_lexer": "ipython3",
   "version": "3.11.3"
  }
 },
 "nbformat": 4,
 "nbformat_minor": 5
}
